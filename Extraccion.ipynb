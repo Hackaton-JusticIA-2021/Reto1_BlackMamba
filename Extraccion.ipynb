{
  "nbformat": 4,
  "nbformat_minor": 0,
  "metadata": {
    "colab": {
      "name": "Extraccion.ipynb",
      "provenance": [],
      "collapsed_sections": []
    },
    "kernelspec": {
      "name": "python3",
      "display_name": "Python 3"
    },
    "language_info": {
      "name": "python"
    }
  },
  "cells": [
    {
      "cell_type": "markdown",
      "metadata": {
        "id": "3v91lt5ROPaU"
      },
      "source": [
        "Lo de lectura de datos puede quedarse así, porque se crea una instancia virtual, por lo que sólo funciona para saber que existen las imágenes de datos. Posteriormente, se ejecutan los comandos para hacer el llamado a la arquitectura. Luego, se hace el transfer learning, en donde se pasan los pesos. Dichos pesos se congelan para que no haya pérdida de información. Finalmente se hace trabajo con el dataset personalizado (Custom data)"
      ]
    },
    {
      "cell_type": "markdown",
      "metadata": {
        "id": "ckUKkDFDwfzT"
      },
      "source": [
        "#Lectura de datos"
      ]
    },
    {
      "cell_type": "code",
      "metadata": {
        "id": "h9oRSKMLqn5R"
      },
      "source": [
        "from google.colab import drive\n",
        "import pandas as pd"
      ],
      "execution_count": null,
      "outputs": []
    },
    {
      "cell_type": "code",
      "metadata": {
        "id": "jmVfYA3As7BJ"
      },
      "source": [
        "drive.mount('/content/drive')"
      ],
      "execution_count": null,
      "outputs": []
    },
    {
      "cell_type": "code",
      "metadata": {
        "id": "kB1Pj26DtC3i"
      },
      "source": [
        "in_dir = 'drive/MyDrive/RIIA_Hack/'\n",
        "in_file = 'JusticIA_DatosTranscripciones.csv'\n",
        "\n",
        "df = pd.read_csv(in_dir+in_file)\n",
        "df.tail()"
      ],
      "execution_count": null,
      "outputs": []
    },
    {
      "cell_type": "code",
      "metadata": {
        "id": "SJ3T2o_4tKso"
      },
      "source": [
        "import PIL\n",
        "\n",
        "from glob import glob\n",
        "from random import sample\n",
        "\n",
        "def get_width_and_height(file_name):\n",
        "    image = PIL.Image.open(file_name)\n",
        "    return image.size\n",
        "    \n",
        "files = glob(in_dir+'/*/*.*')\n",
        "files = sample(files, 20)\n",
        "\n",
        "for file_name in files:\n",
        "    width, height = get_width_and_height(file_name)\n",
        "    print(width, height, file_name)"
      ],
      "execution_count": null,
      "outputs": []
    },
    {
      "cell_type": "code",
      "metadata": {
        "id": "L3ifQNgAtOCq"
      },
      "source": [
        "df_long = df[df['Texto'].str.len()>2000]\n",
        "\n",
        "for dir, fil in zip(df_long['Conjunto'].values, df_long['NombreArchivo'].values):\n",
        "    file_name = in_dir + dir + '/' + fil\n",
        "    width, height = get_width_and_height(file_name)\n",
        "    print(width, height, file_name)"
      ],
      "execution_count": null,
      "outputs": []
    },
    {
      "cell_type": "markdown",
      "metadata": {
        "id": "NkLwyORNGcnt"
      },
      "source": [
        "#Learning Transfer"
      ]
    },
    {
      "cell_type": "markdown",
      "metadata": {
        "id": "BApZtvdDGga7"
      },
      "source": [
        "Usando la arquitectura de yolov5 (https://github.com/ultralytics/yolov5) hacemos la transferencia de pesos y de la arquitectura."
      ]
    },
    {
      "cell_type": "code",
      "metadata": {
        "id": "HltZDDbpGfbl"
      },
      "source": [
        "!git clone https://github.com/ultralytics/yolov5\n",
        "!cd yolov5\n",
        "!pip install -r requirements.txt"
      ],
      "execution_count": null,
      "outputs": []
    },
    {
      "cell_type": "code",
      "metadata": {
        "id": "TaXxLRMxJ1nk"
      },
      "source": [
        "import torch\n",
        "# Model\n",
        "model = torch.hub.load('ultralytics/yolov5', 'yolov5s')  # or yolov5m, yolov5l, yolov5x, custom\n",
        "# Images\n",
        "img = 'https://ultralytics.com/images/zidane.jpg'  # or file, Path, PIL, OpenCV, numpy, list\n",
        "# Inference\n",
        "results = model(img)\n",
        "# Results\n",
        "results.print()  # or .show(), .save(), .crop(), .pandas(), etc."
      ],
      "execution_count": null,
      "outputs": []
    },
    {
      "cell_type": "code",
      "metadata": {
        "id": "A485147HJ9F9"
      },
      "source": [
        "!python detect.py --source 0  # webcam\n",
        "                            file.jpg  # image \n",
        "                            file.mp4  # video\n",
        "                            path/  # directory\n",
        "                            path/*.jpg  # glob\n",
        "                            'https://youtu.be/NUsoVlDFqZg'  # YouTube\n",
        "                            'rtsp://example.com/media.mp4'  # RTSP, RTMP, HTTP stream"
      ],
      "execution_count": null,
      "outputs": []
    },
    {
      "cell_type": "code",
      "metadata": {
        "id": "_BJq7or4KDhK"
      },
      "source": [
        "$ python train.py --data coco.yaml --cfg yolov5s.yaml --weights '' --batch-size 64\n",
        "                                         yolov5m                                40\n",
        "                                         yolov5l                                24\n",
        "                                         yolov5x                                16"
      ],
      "execution_count": null,
      "outputs": []
    },
    {
      "cell_type": "markdown",
      "metadata": {
        "id": "BZqBObgVKWBL"
      },
      "source": [
        "#Frozen Layers\n",
        "\n",
        "<h3>https://github.com/ultralytics/yolov5/issues/131</h3>"
      ]
    },
    {
      "cell_type": "code",
      "metadata": {
        "id": "83ORp84DKVDk"
      },
      "source": [
        " # Freeze \n",
        " freeze = [f'model.{x}.' for x in range(freeze)]  # layers to freeze \n",
        " for k, v in model.named_parameters(): \n",
        "     v.requires_grad = True  # train all layers \n",
        "     if any(x in k for x in freeze): \n",
        "         print(f'freezing {k}') \n",
        "         v.requires_grad = False "
      ],
      "execution_count": null,
      "outputs": []
    },
    {
      "cell_type": "code",
      "metadata": {
        "id": "XRtMvyfBKiKM"
      },
      "source": [
        "# YOLOv5 backbone \n",
        " backbone: \n",
        "   # [from, number, module, args] \n",
        "   [[-1, 1, Focus, [64, 3]],  # 0-P1/2 \n",
        "    [-1, 1, Conv, [128, 3, 2]],  # 1-P2/4 \n",
        "    [-1, 3, BottleneckCSP, [128]], \n",
        "    [-1, 1, Conv, [256, 3, 2]],  # 3-P3/8 \n",
        "    [-1, 9, BottleneckCSP, [256]], \n",
        "    [-1, 1, Conv, [512, 3, 2]],  # 5-P4/16 \n",
        "    [-1, 9, BottleneckCSP, [512]], \n",
        "    [-1, 1, Conv, [1024, 3, 2]],  # 7-P5/32 \n",
        "    [-1, 1, SPP, [1024, [5, 9, 13]]], \n",
        "    [-1, 3, BottleneckCSP, [1024, False]],  # 9 \n",
        "   ] \n",
        "  \n",
        " # YOLOv5 head \n",
        " head: \n",
        "   [[-1, 1, Conv, [512, 1, 1]], \n",
        "    [-1, 1, nn.Upsample, [None, 2, 'nearest']], \n",
        "    [[-1, 6], 1, Concat, [1]],  # cat backbone P4 \n",
        "    [-1, 3, BottleneckCSP, [512, False]],  # 13 \n",
        "  \n",
        "    [-1, 1, Conv, [256, 1, 1]], \n",
        "    [-1, 1, nn.Upsample, [None, 2, 'nearest']], \n",
        "    [[-1, 4], 1, Concat, [1]],  # cat backbone P3 \n",
        "    [-1, 3, BottleneckCSP, [256, False]],  # 17 (P3/8-small) \n",
        "  \n",
        "    [-1, 1, Conv, [256, 3, 2]], \n",
        "    [[-1, 14], 1, Concat, [1]],  # cat head P4 \n",
        "    [-1, 3, BottleneckCSP, [512, False]],  # 20 (P4/16-medium) \n",
        "  \n",
        "    [-1, 1, Conv, [512, 3, 2]], \n",
        "    [[-1, 10], 1, Concat, [1]],  # cat head P5 \n",
        "    [-1, 3, BottleneckCSP, [1024, False]],  # 23 (P5/32-large) \n",
        "  \n",
        "    [[17, 20, 23], 1, Detect, [nc, anchors]],  # Detect(P3, P4, P5) \n",
        "   ] "
      ],
      "execution_count": null,
      "outputs": []
    },
    {
      "cell_type": "markdown",
      "metadata": {
        "id": "bhimGxFWKjma"
      },
      "source": [
        "#Training Custom Data\n",
        "\n",
        "<h3>https://github.com/ultralytics/yolov5/wiki/Train-Custom-Data</h3>"
      ]
    },
    {
      "cell_type": "code",
      "metadata": {
        "id": "8rFVsHyuKmt2"
      },
      "source": [
        "# Train/val/test sets as 1) dir: path/to/imgs, 2) file: path/to/imgs.txt, or 3) list: [path/to/imgs1, path/to/imgs2, ..]\n",
        "path: ../datasets/coco128  # dataset root dir\n",
        "train: images/train2017  # train images (relative to 'path') 128 images\n",
        "val: images/train2017  # val images (relative to 'path') 128 images\n",
        "test:  # test images (optional)\n",
        "\n",
        "# Classes\n",
        "nc: 80  # number of classes\n",
        "names: [ 'person', 'bicycle', 'car', 'motorcycle', 'airplane', 'bus', 'train', 'truck', 'boat', 'traffic light',\n",
        "         'fire hydrant', 'stop sign', 'parking meter', 'bench', 'bird', 'cat', 'dog', 'horse', 'sheep', 'cow',\n",
        "         'elephant', 'bear', 'zebra', 'giraffe', 'backpack', 'umbrella', 'handbag', 'tie', 'suitcase', 'frisbee',\n",
        "         'skis', 'snowboard', 'sports ball', 'kite', 'baseball bat', 'baseball glove', 'skateboard', 'surfboard',\n",
        "         'tennis racket', 'bottle', 'wine glass', 'cup', 'fork', 'knife', 'spoon', 'bowl', 'banana', 'apple',\n",
        "         'sandwich', 'orange', 'broccoli', 'carrot', 'hot dog', 'pizza', 'donut', 'cake', 'chair', 'couch',\n",
        "         'potted plant', 'bed', 'dining table', 'toilet', 'tv', 'laptop', 'mouse', 'remote', 'keyboard', 'cell phone',\n",
        "         'microwave', 'oven', 'toaster', 'sink', 'refrigerator', 'book', 'clock', 'vase', 'scissors', 'teddy bear',\n",
        "         'hair drier', 'toothbrush' ]  # class names"
      ],
      "execution_count": null,
      "outputs": []
    }
  ]
}